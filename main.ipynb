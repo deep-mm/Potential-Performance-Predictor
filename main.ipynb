{
 "cells": [
  {
   "cell_type": "code",
   "execution_count": 9,
   "metadata": {},
   "outputs": [
    {
     "data": {
      "text/plain": [
       "'\\nName: Potential-Performance-Predictor\\nProject Group Number: 19\\n'"
      ]
     },
     "execution_count": 9,
     "metadata": {},
     "output_type": "execute_result"
    }
   ],
   "source": [
    "\"\"\"\n",
    "Name: Potential-Performance-Predictor\n",
    "Project Group Number: 19\n",
    "\"\"\""
   ]
  },
  {
   "cell_type": "code",
   "execution_count": 12,
   "metadata": {},
   "outputs": [],
   "source": [
    "import numpy as np\n",
    "import pandas as pd\n",
    "import matplotlib.pyplot as plt\n",
    "\n",
    "# we will also be using the PCA library from scikit learn for this exercise\n",
    "from sklearn.decomposition import PCA\n",
    "\n",
    "# we will use the StandardScaler method to z-score normalize our data\n",
    "from sklearn.preprocessing import StandardScaler"
   ]
  },
  {
   "cell_type": "code",
   "execution_count": 11,
   "metadata": {},
   "outputs": [],
   "source": [
    "# Load Dataset from csv\n",
    "\n",
    "dataset = pd.read_csv('Dataset/HR-Employee-Attrition.csv')\n",
    "x = dataset.loc[:, dataset.columns != 'PerformanceRating']\n",
    "y = dataset.PerformanceRating"
   ]
  },
  {
   "cell_type": "code",
   "execution_count": 13,
   "metadata": {},
   "outputs": [
    {
     "data": {
      "text/plain": [
       "(array([1244.,    0.,    0.,    0.,    0.,    0.,    0.,    0.,    0.,\n",
       "         226.]),\n",
       " array([3. , 3.1, 3.2, 3.3, 3.4, 3.5, 3.6, 3.7, 3.8, 3.9, 4. ]),\n",
       " <BarContainer object of 10 artists>)"
      ]
     },
     "execution_count": 13,
     "metadata": {},
     "output_type": "execute_result"
    },
    {
     "data": {
      "image/png": "[encoded data removed]",
      "text/plain": [
       "<Figure size 640x480 with 1 Axes>"
      ]
     },
     "metadata": {},
     "output_type": "display_data"
    }
   ],
   "source": [
    "plt.hist(y)"
   ]
  },
  {
   "attachments": {},
   "cell_type": "markdown",
   "metadata": {},
   "source": [
    "## Columns that can be neglected:\n",
    "\n",
    "Employee Count\n",
    "Employee Number\n",
    "Job Involvement\n",
    "Over 18\n",
    "Overtime\n",
    "Percent Salary Hike\n",
    "Performance Rating\n",
    "Relationship status\n",
    "Standard Hours\n",
    "Training Time Last Year\n",
    "YearAtCompany\n",
    "Years since last promotion\n",
    "Years with current manager\n",
    "\n",
    "## Columns to check\n",
    "\n",
    "Daily Rate & Hourly Rate & Monthly Income & Monthly Rate\n",
    "\n",
    "## Y column\n",
    "\n",
    "Job Satisfaction\n",
    "Env Satisfaction\n",
    "Attrition\n",
    "\n",
    "## Possible Bias Columns\n",
    "\n",
    "Distance from home\n",
    "Gender\n",
    "Marital Status"
   ]
  }
 ],
 "metadata": {
  "kernelspec": {
   "display_name": "Python 3",
   "language": "python",
   "name": "python3"
  },
  "language_info": {
   "codemirror_mode": {
    "name": "ipython",
    "version": 3
   },
   "file_extension": ".py",
   "mimetype": "text/x-python",
   "name": "python",
   "nbconvert_exporter": "python",
   "pygments_lexer": "ipython3",
   "version": "3.10.4"
  },
  "orig_nbformat": 4
 },
 "nbformat": 4,
 "nbformat_minor": 2
}
